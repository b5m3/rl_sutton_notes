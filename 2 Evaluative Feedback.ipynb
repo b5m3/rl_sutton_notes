{
 "cells": [
  {
   "cell_type": "markdown",
   "metadata": {},
   "source": [
    "# n-armed Bandit"
   ]
  },
  {
   "cell_type": "code",
   "execution_count": 1,
   "metadata": {
    "collapsed": true
   },
   "outputs": [],
   "source": [
    "%matplotlib inline\n",
    "\n",
    "import matplotlib\n",
    "import numpy as np\n",
    "from matplotlib import pyplot as plt"
   ]
  },
  {
   "cell_type": "markdown",
   "metadata": {},
   "source": [
    "- slot machine with *n* arms\n",
    "- each arm has normal distribution with variance = 1 "
   ]
  },
  {
   "cell_type": "code",
   "execution_count": 2,
   "metadata": {
    "collapsed": true
   },
   "outputs": [],
   "source": [
    "seed = 65432874\n",
    "rand = np.random.RandomState(seed)\n",
    "\n",
    "# bandit probabilities (randomly generated)\n",
    "bandits = [0.5, 2.15, 1.02, 0.44, -3.6, 1.45, -0.62, 3.9, -1.16, 4.63]\n",
    "\n",
    "def pull_bandit(bandit):\n",
    "    return rand.normal(bandits[bandit], 1)   # choose from normal dist, with mean from bandit\n",
    "                                             # and sigma = 1 (thus variance=1)"
   ]
  },
  {
   "cell_type": "code",
   "execution_count": 3,
   "metadata": {},
   "outputs": [],
   "source": [
    "num_steps = 2000\n",
    "n = len(bandits)\n",
    "\n",
    "q = np.zeros(n)        # total reward\n",
    "n_a = np.zeros(n)      # number of times (action) a chosen\n",
    "q_t = np.zeros(n)      # average reward of action"
   ]
  },
  {
   "cell_type": "code",
   "execution_count": 4,
   "metadata": {
    "collapsed": true
   },
   "outputs": [],
   "source": [
    "eps = 0.1\n",
    "def choose():\n",
    "    '''eps-greedy choose'''\n",
    "    _qi = list(range(n))\n",
    "    if rand.random_sample() > eps:\n",
    "        _qi = np.argwhere(q_t == np.amax(q_t)).flatten()\n",
    "        if (len(_qi) == 1):\n",
    "            return _qi[0]\n",
    "    \n",
    "    return _qi[rand.randint(0, len(_qi))]"
   ]
  },
  {
   "cell_type": "code",
   "execution_count": 5,
   "metadata": {},
   "outputs": [],
   "source": [
    "r_total = np.zeros(num_steps)\n",
    "r_avg = np.zeros(num_steps)\n",
    "for s in range(1, num_steps):\n",
    "    a = choose()\n",
    "    # pulling the arm\n",
    "    r = pull_bandit(a)\n",
    "    # learn from the state, reward, action\n",
    "    n_a[a] += 1\n",
    "    q[a] += r \n",
    "    q_t[a] = q[a] / n_a[a]\n",
    "    r_total[s] = r_total[s - 1] + r\n",
    "    r_avg[s] = r_total[s] / s"
   ]
  },
  {
   "cell_type": "code",
   "execution_count": 6,
   "metadata": {},
   "outputs": [
    {
     "data": {
      "image/png": "[encoded data removed]",
      "text/plain": [
       "<matplotlib.figure.Figure at 0x7f4e35070b00>"
      ]
     },
     "metadata": {},
     "output_type": "display_data"
    }
   ],
   "source": [
    "x = np.linspace(0, num_steps, num=num_steps)\n",
    "plt.plot(x, r_avg)\n",
    "plt.title('Average reward vs steps')\n",
    "plt.show()"
   ]
  },
  {
   "cell_type": "code",
   "execution_count": 7,
   "metadata": {},
   "outputs": [
    {
     "data": {
      "image/png": "[encoded data removed]",
      "text/plain": [
       "<matplotlib.figure.Figure at 0x7f4e32d4ae80>"
      ]
     },
     "metadata": {},
     "output_type": "display_data"
    }
   ],
   "source": [
    "nx = np.arange(n)\n",
    "plt.bar(nx, bandits, width=0.4)\n",
    "plt.bar(nx + 0.4, q_t, width=0.4)\n",
    "plt.xticks(nx + 0.2, nx)\n",
    "plt.title('Action values before / after training')\n",
    "plt.show()"
   ]
  }
 ],
 "metadata": {
  "kernelspec": {
   "display_name": "Python 3",
   "language": "python",
   "name": "python3"
  },
  "language_info": {
   "codemirror_mode": {
    "name": "ipython",
    "version": 3
   },
   "file_extension": ".py",
   "mimetype": "text/x-python",
   "name": "python",
   "nbconvert_exporter": "python",
   "pygments_lexer": "ipython3",
   "version": "3.6.1"
  }
 },
 "nbformat": 4,
 "nbformat_minor": 2
}
